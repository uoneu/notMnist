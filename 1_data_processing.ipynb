{
 "cells": [
  {
   "cell_type": "markdown",
   "metadata": {},
   "source": [
    "## 简介：\n",
    "数据集notMNIST，和MNIST不同的是它是一个各种形态的字母的数据集合，总共有a~j 10个字母组成\n",
    "\n",
    "![notMnist数据集](./picture/notMnist.png \"notMnist数据集\")\n",
    "\n",
    "\n",
    "### 加载相关包"
   ]
  },
  {
   "cell_type": "code",
   "execution_count": 2,
   "metadata": {},
   "outputs": [],
   "source": [
    "# These are all the modules we'll be using later. Make sure you can import them\n",
    "# before proceeding further.\n",
    "from __future__ import print_function\n",
    "import imageio\n",
    "import matplotlib.pyplot as plt\n",
    "import numpy as np\n",
    "import os\n",
    "import sys\n",
    "import tarfile\n",
    "from IPython.display import display, Image\n",
    "from sklearn.linear_model import LogisticRegression\n",
    "from six.moves.urllib.request import urlretrieve\n",
    "from six.moves import cPickle as pickle\n",
    "\n",
    "# Config the matplotlib backend as plotting inline in IPython\n",
    "%matplotlib inline"
   ]
  },
  {
   "cell_type": "markdown",
   "metadata": {},
   "source": [
    "extract the dataset from the compressed .tar.gz file. This should give you a set of directories, labeled A through J."
   ]
  },
  {
   "cell_type": "code",
   "execution_count": 3,
   "metadata": {},
   "outputs": [
    {
     "name": "stdout",
     "output_type": "stream",
     "text": [
      "notMNIST_large already present - Skipping extraction of notMNIST_large.tar.gz.\n",
      "['notMNIST_large/A', 'notMNIST_large/B', 'notMNIST_large/C', 'notMNIST_large/D', 'notMNIST_large/E', 'notMNIST_large/F', 'notMNIST_large/G', 'notMNIST_large/H', 'notMNIST_large/I', 'notMNIST_large/J']\n",
      "notMNIST_small already present - Skipping extraction of notMNIST_small.tar.gz.\n",
      "['notMNIST_small/A', 'notMNIST_small/B', 'notMNIST_small/C', 'notMNIST_small/D', 'notMNIST_small/E', 'notMNIST_small/F', 'notMNIST_small/G', 'notMNIST_small/H', 'notMNIST_small/I', 'notMNIST_small/J']\n"
     ]
    }
   ],
   "source": [
    "num_classes = 10\n",
    "np.random.seed(133)\n",
    "\n",
    "def maybe_extract(filename, force=False):\n",
    "    root = os.path.splitext(os.path.splitext(filename)[0])[0]  # remove .tar.gz\n",
    "    if os.path.isdir(root) and not force:\n",
    "        # You may override by setting force=True.\n",
    "        print('%s already present - Skipping extraction of %s.' %\n",
    "              (root, filename))\n",
    "    else:\n",
    "        print('Extracting data for %s. This may take a while. Please wait.' % root)\n",
    "        tar = tarfile.open(filename)\n",
    "        sys.stdout.flush()\n",
    "        tar.extractall(data_root)\n",
    "        tar.close()\n",
    "    data_folders = [\n",
    "        os.path.join(root, d) for d in sorted(os.listdir(root))\n",
    "        if os.path.isdir(os.path.join(root, d))]\n",
    "    if len(data_folders) != num_classes:\n",
    "        raise Exception(\n",
    "            'Expected %d folders, one per class. Found %d instead.' % (\n",
    "                num_classes, len(data_folders)))\n",
    "    print(data_folders)\n",
    "    return data_folders\n",
    "\n",
    "\n",
    "train_folders = maybe_extract('notMNIST_large.tar.gz')\n",
    "test_folders = maybe_extract('notMNIST_small.tar.gz')"
   ]
  },
  {
   "cell_type": "markdown",
   "metadata": {},
   "source": [
    "显示图片样本"
   ]
  },
  {
   "cell_type": "code",
   "execution_count": 9,
   "metadata": {
    "scrolled": true
   },
   "outputs": [
    {
     "name": "stdout",
     "output_type": "stream",
     "text": [
      "[[  0.   0.   1.   0.  95. 215. 242. 253. 255. 255. 255. 255. 255. 255.\n",
      "  255. 255. 255. 255. 255. 255. 255. 255. 255. 255. 245. 215. 120.   8.]\n",
      " [  0.   0.   1.   0. 139. 255. 255. 255. 255. 255. 255. 255. 255. 255.\n",
      "  255. 255. 255. 255. 255. 255. 255. 255. 255. 255. 255. 253. 255. 102.]\n",
      " [  0.   0.   1.   0. 176. 255. 251. 252. 252. 251. 251. 251. 251. 251.\n",
      "  251. 251. 254. 255. 255. 255. 255. 255. 255. 255. 255. 251. 255. 129.]\n",
      " [  0.   0.   1.   0. 207. 255. 254. 255. 255. 255. 255. 255. 255. 255.\n",
      "  255. 255. 255. 255. 255. 255. 255. 255. 255. 255. 255. 252. 255.  86.]\n",
      " [  0.   0.   0.   0.  26. 125. 176. 192. 192. 178. 168. 160. 156. 156.\n",
      "  155. 162. 227. 255. 253. 255. 255. 255. 255. 255. 255. 252. 255.  46.]\n",
      " [  0.   0.   0.   0.   0.   0.   0.   0.   0.   0.   0.   0.   0.   0.\n",
      "    2.   0.  39. 222. 255. 253. 255. 255. 255. 255. 255. 252. 255.  42.]\n",
      " [  0.   0.   0.   0.   2.   3.   3.   1.   1.   3.   4.   4.   4.   4.\n",
      "    4.   9.   0. 185. 255. 252. 255. 255. 255. 255. 255. 252. 255.  42.]\n",
      " [  0.   0.   0.   0.   0.   0.   0.   0.   0.   0.   0.   0.   0.   0.\n",
      "    0.   6.   0. 185. 255. 252. 255. 255. 255. 255. 255. 252. 255.  42.]\n",
      " [  0.   0.   0.   0.   0.   0.   0.   0.   0.   0.   0.   0.   0.   0.\n",
      "    0.   6.   0. 185. 255. 252. 255. 255. 255. 255. 255. 252. 255.  42.]\n",
      " [  0.   0.   0.   0.   0.   0.   0.   0.   0.   0.   0.   0.   0.   0.\n",
      "    1.   2.   0. 196. 255. 252. 255. 255. 255. 255. 255. 252. 255.  42.]\n",
      " [  0.   0.   0.   0.   0.   0.   0.   0.   0.   0.   0.   0.   0.   0.\n",
      "    4.   0.  87. 250. 255. 254. 255. 255. 255. 255. 255. 252. 255.  42.]\n",
      " [  0.   0.   0.   0.   0.   0.   0.   0.   0.   0.   0.   0.   0.   0.\n",
      "    6.   0. 136. 255. 249. 255. 255. 255. 255. 255. 255. 252. 255.  42.]\n",
      " [  0.   0.   0.   0.   0.   0.   0.   0.   0.   0.   0.   0.   0.   0.\n",
      "    6.   0. 134. 255. 249. 255. 255. 255. 255. 255. 255. 252. 255.  42.]\n",
      " [  0.   0.   0.   0.   0.   0.   0.   0.   0.   0.   0.   0.   0.   0.\n",
      "    3.   0.  48. 227. 255. 253. 255. 255. 255. 255. 253. 255. 209.  22.]\n",
      " [  0.   0.   0.   0.   0.   0.   0.   0.   0.   0.   0.   0.   0.   0.\n",
      "    0.   6.   0. 185. 255. 252. 255. 255. 255. 255. 250. 255. 118.   0.]\n",
      " [  0.   0.   0.   0.   0.   0.   0.   0.   0.   0.   0.   0.   0.   0.\n",
      "    0.   6.   0. 185. 255. 252. 255. 255. 255. 255. 249. 255.  85.   0.]\n",
      " [  0.   0.   0.   0.   0.   0.   0.   0.   0.   0.   0.   0.   0.   0.\n",
      "    0.   6.   0. 185. 255. 252. 255. 255. 255. 255. 249. 255.  86.   0.]\n",
      " [  0.   0.   0.   0.   0.   0.   0.   0.   0.   0.   0.   0.   0.   0.\n",
      "    0.   6.   0. 185. 255. 252. 255. 255. 255. 255. 249. 255.  83.   0.]\n",
      " [  0.   0.   0.   0.   0.   0.   0.   0.   0.   0.   0.   0.   0.   0.\n",
      "    0.   6.   0. 185. 255. 252. 255. 255. 255. 254. 252. 255.  74.   0.]\n",
      " [  0.   0.   2.   3.   3.   1.   1.   0.   0.   0.   0.   0.   0.   0.\n",
      "    0.   6.   0. 187. 255. 252. 255. 255. 255. 254. 254. 255.  66.   0.]\n",
      " [  0.   1.   0.   0.   0.   0.   1.   3.   3.   3.   2.   2.   2.   3.\n",
      "    5.   1.   5. 201. 255. 252. 255. 255. 255. 253. 255. 225.  45.   0.]\n",
      " [  0.   3.  42.  72.  59.  21.   0.   0.   0.   0.   0.   0.   0.   1.\n",
      "    0.   5. 148. 255. 254. 255. 255. 255. 255. 250. 255. 172.   3.   0.]\n",
      " [  4. 137. 255. 253. 254. 237. 194. 138.  95.  62.  45.  36.  37.  58.\n",
      "  115. 209. 255. 253. 255. 255. 255. 255. 254. 251. 255. 109.   0.   5.]\n",
      " [ 29. 229. 255. 252. 255. 255. 255. 255. 255. 255. 255. 254. 255. 255.\n",
      "  255. 255. 254. 254. 255. 255. 255. 252. 254. 255. 148.   0.   1.   1.]\n",
      " [ 49. 253. 252. 254. 254. 254. 252. 251. 253. 254. 255. 255. 255. 254.\n",
      "  252. 253. 255. 255. 253. 252. 253. 255. 255. 138.   0.   1.   0.   0.]\n",
      " [110. 255. 253. 254. 253. 252. 252. 254. 254. 254. 254. 254. 254. 254.\n",
      "  253. 252. 252. 255. 255. 255. 252. 187.  64.   0.   0.   1.   0.   0.]\n",
      " [ 30. 166. 239. 255. 255. 255. 255. 255. 255. 255. 255. 255. 255. 255.\n",
      "  255. 255. 255. 254. 221. 159.  56.   2.   0.   2.   1.   0.   0.   0.]\n",
      " [  0.   1.  25.  76. 124. 162. 188. 209. 222. 235. 248. 251. 238. 226.\n",
      "  200. 162. 122.  62.  14.   0.   0.   2.   2.   0.   0.   0.   0.   0.]]\n"
     ]
    },
    {
     "data": {
      "image/png": "[encoded data removed]",
      "text/plain": [
       "<Figure size 432x288 with 50 Axes>"
      ]
     },
     "metadata": {
      "needs_background": "light"
     },
     "output_type": "display_data"
    }
   ],
   "source": [
    "import random\n",
    "\n",
    "#display(Image(filename=\"notMNIST_small/C/QmVlc2tuZWVzQy5vdGY=.png\"))\n",
    "\n",
    "def display_image(folders, num_class, num_image):\n",
    "    if(num_image <= 0):\n",
    "        print('num_image <= 0')\n",
    "        return\n",
    "    fig = plt.figure('subplot')\n",
    "    for index,folder in enumerate(folders):\n",
    "        images_name = random.sample(os.listdir(folder), num_image)\n",
    "        images_path = [os.path.join(folder, elm) for elm in images_name]\n",
    "        \n",
    "        for i,image_file in enumerate(images_path):\n",
    "            ax = fig.add_subplot(num_class, num_image, index*num_image+i+1)\n",
    "            image = (imageio.imread(image_file)).astype(float)\n",
    "            ax.imshow(image)\n",
    "            ax.set_axis_off()\n",
    "        index = index+1  \n",
    "    plt.show()\n",
    "   \n",
    "    \n",
    "#显示10类，每类显示5张图片         \n",
    "display_image(train_folders, 10, 5) "
   ]
  },
  {
   "cell_type": "markdown",
   "metadata": {},
   "source": [
    "## problem1\n",
    "Let's take a peek at some of the data to make sure it looks sensible. Each exemplar should be an image of a character A through J rendered in a different font. Display a sample of the images that we just downloaded. Hint: you can use the package IPython.display.\n",
    "\n",
    "---\n",
    "Now let's load the data in a more manageable format. Since, depending on your computer setup you might not be able to fit it all in memory, we'll load each class into a separate dataset, store them on disk and curate them independently. Later we'll merge them into a single dataset of manageable size.\n",
    "\n",
    "We'll convert the entire dataset into a 3D array (image index, x, y) of floating point values, normalized to have approximately zero mean and standard deviation ~0.5 to make training easier down the road.\n",
    "\n",
    "A few images might not be readable, we'll just skip them."
   ]
  },
  {
   "cell_type": "code",
   "execution_count": 10,
   "metadata": {
    "scrolled": true
   },
   "outputs": [
    {
     "name": "stdout",
     "output_type": "stream",
     "text": [
      "notMNIST_large/A.pickle already present - Skipping pickling.\n",
      "notMNIST_large/B.pickle already present - Skipping pickling.\n",
      "notMNIST_large/C.pickle already present - Skipping pickling.\n",
      "notMNIST_large/D.pickle already present - Skipping pickling.\n",
      "notMNIST_large/E.pickle already present - Skipping pickling.\n",
      "notMNIST_large/F.pickle already present - Skipping pickling.\n",
      "notMNIST_large/G.pickle already present - Skipping pickling.\n",
      "notMNIST_large/H.pickle already present - Skipping pickling.\n",
      "notMNIST_large/I.pickle already present - Skipping pickling.\n",
      "notMNIST_large/J.pickle already present - Skipping pickling.\n",
      "notMNIST_small/A.pickle already present - Skipping pickling.\n",
      "notMNIST_small/B.pickle already present - Skipping pickling.\n",
      "notMNIST_small/C.pickle already present - Skipping pickling.\n",
      "notMNIST_small/D.pickle already present - Skipping pickling.\n",
      "notMNIST_small/E.pickle already present - Skipping pickling.\n",
      "notMNIST_small/F.pickle already present - Skipping pickling.\n",
      "notMNIST_small/G.pickle already present - Skipping pickling.\n",
      "notMNIST_small/H.pickle already present - Skipping pickling.\n",
      "notMNIST_small/I.pickle already present - Skipping pickling.\n",
      "notMNIST_small/J.pickle already present - Skipping pickling.\n",
      "['notMNIST_large/A.pickle', 'notMNIST_large/B.pickle', 'notMNIST_large/C.pickle', 'notMNIST_large/D.pickle', 'notMNIST_large/E.pickle', 'notMNIST_large/F.pickle', 'notMNIST_large/G.pickle', 'notMNIST_large/H.pickle', 'notMNIST_large/I.pickle', 'notMNIST_large/J.pickle']\n"
     ]
    }
   ],
   "source": [
    "image_size = 28  # iPixel width and height.\n",
    "pixel_depth = 255.0  # Number of levels per pixel.\n",
    "\n",
    "def load_letter(folder, min_num_images):\n",
    "    \"\"\"Load the data for a single letter label.\"\"\"\n",
    "    image_files = os.listdir(folder)\n",
    "    dataset = np.ndarray(shape=(len(image_files), image_size, image_size),\n",
    "                         dtype=np.float32)\n",
    "    print(folder)\n",
    "\n",
    "    num_images = 0\n",
    "    for image in image_files:\n",
    "        image_file = os.path.join(folder, image)\n",
    "        try:\n",
    "            image_data = (imageio.imread(image_file).astype(float) - \\\n",
    "                          pixel_depth / 2) / pixel_depth\n",
    "\n",
    "            if image_data.shape != (image_size, image_size):\n",
    "                raise Exception('Unexpected image shape: %s' %\n",
    "                                str(image_data.shape))\n",
    "            dataset[num_images, :, :] = image_data\n",
    "            num_images = num_images + 1\n",
    "        except (IOError, ValueError) as e:\n",
    "            print('Could not read:', image_file,\n",
    "                  ':', e, '- it\\'s ok, skipping.')\n",
    "\n",
    "    dataset = dataset[0:num_images, :, :]\n",
    "    if num_images < min_num_images:\n",
    "        raise Exception('Many fewer images than expected: %d < %d' %\n",
    "                        (num_images, min_num_images))\n",
    "\n",
    "    print('Full dataset tensor:', dataset.shape)\n",
    "    print('Mean:', np.mean(dataset))\n",
    "    print('Standard deviation:', np.std(dataset))\n",
    "    return dataset\n",
    "\n",
    "\n",
    "def maybe_pickle(data_folders, min_num_images_per_class, force=False):\n",
    "    dataset_names = []\n",
    "    for folder in data_folders:\n",
    "        set_filename = folder + '.pickle'\n",
    "        dataset_names.append(set_filename)\n",
    "        if os.path.exists(set_filename) and not force:\n",
    "            # You may override by setting force=True.\n",
    "            print('%s already present - Skipping pickling.' % set_filename)\n",
    "        else:\n",
    "            print('Pickling %s.' % set_filename)\n",
    "            dataset = load_letter(folder, min_num_images_per_class)\n",
    "            try:\n",
    "                with open(set_filename, 'wb') as f:\n",
    "                    pickle.dump(dataset, f, pickle.HIGHEST_PROTOCOL)\n",
    "            except Exception as e:\n",
    "                print('Unable to save data to', set_filename, ':', e)\n",
    "\n",
    "    return dataset_names\n",
    "\n",
    "\n",
    "train_datasets = maybe_pickle(train_folders, 45000)\n",
    "test_datasets = maybe_pickle(test_folders, 1800)\n",
    "print(train_datasets)"
   ]
  },
  {
   "cell_type": "markdown",
   "metadata": {},
   "source": [
    "## problem2\n",
    "Let's verify that the data still looks good. Displaying a sample of the labels and images from the ndarray. Hint: you can use matplotlib.pyplot."
   ]
  },
  {
   "cell_type": "code",
   "execution_count": 11,
   "metadata": {},
   "outputs": [
    {
     "name": "stdout",
     "output_type": "stream",
     "text": [
      "[[-0.5        -0.5        -0.5        -0.5        -0.5        -0.5\n",
      "  -0.5        -0.5        -0.5        -0.5        -0.5        -0.5\n",
      "  -0.5        -0.5        -0.5        -0.5        -0.49607843 -0.5\n",
      "   0.17450981  0.5         0.4882353   0.5         0.5         0.5\n",
      "   0.5         0.49607843  0.5        -0.18235295]\n",
      " [-0.5        -0.5        -0.5        -0.5        -0.5        -0.5\n",
      "  -0.5        -0.5        -0.5        -0.5        -0.5        -0.5\n",
      "  -0.5        -0.5        -0.5        -0.49607843 -0.5        -0.46078432\n",
      "   0.4019608   0.5         0.49607843  0.5         0.5         0.5\n",
      "   0.49215686  0.5         0.38235295 -0.38235295]\n",
      " [-0.5        -0.5        -0.5        -0.5        -0.5        -0.5\n",
      "  -0.5        -0.5        -0.5        -0.5        -0.5        -0.5\n",
      "  -0.5        -0.5        -0.5        -0.49215686 -0.5        -0.24509804\n",
      "   0.49215686  0.5         0.49607843  0.5         0.5         0.5\n",
      "   0.4882353   0.5         0.22941177 -0.5       ]\n",
      " [-0.5        -0.5        -0.5        -0.5        -0.5        -0.5\n",
      "  -0.5        -0.5        -0.5        -0.5        -0.5        -0.5\n",
      "  -0.5        -0.5        -0.5        -0.48431373 -0.5         0.00196078\n",
      "   0.5         0.4882353   0.5         0.5         0.5         0.5\n",
      "   0.49215686  0.5        -0.01372549 -0.5       ]\n",
      " [-0.5        -0.5        -0.5        -0.5        -0.5        -0.5\n",
      "  -0.5        -0.5        -0.5        -0.5        -0.5        -0.5\n",
      "  -0.5        -0.5        -0.49607843 -0.49607843 -0.5         0.20196079\n",
      "   0.5         0.48431373  0.5         0.5         0.5         0.5\n",
      "   0.49607843  0.5        -0.2764706  -0.5       ]\n",
      " [-0.5        -0.5        -0.5        -0.5        -0.5        -0.5\n",
      "  -0.5        -0.5        -0.5        -0.5        -0.5        -0.5\n",
      "  -0.5        -0.5        -0.49215686 -0.5        -0.38235295  0.41764706\n",
      "   0.5         0.49607843  0.5         0.5         0.5         0.49607843\n",
      "   0.5         0.38627452 -0.42156863 -0.5       ]\n",
      " [-0.5        -0.5        -0.5        -0.5        -0.5        -0.5\n",
      "  -0.5        -0.5        -0.5        -0.5        -0.5        -0.5\n",
      "  -0.5        -0.5        -0.4882353  -0.5        -0.22156863  0.5\n",
      "   0.4882353   0.5         0.5         0.5         0.5         0.48431373\n",
      "   0.5         0.1509804  -0.5        -0.49607843]\n",
      " [-0.5        -0.5        -0.5        -0.5        -0.5        -0.5\n",
      "  -0.5        -0.5        -0.5        -0.5        -0.5        -0.5\n",
      "  -0.5        -0.5        -0.49215686 -0.5         0.04901961  0.5\n",
      "   0.4882353   0.5         0.5         0.5         0.5         0.4882353\n",
      "   0.5        -0.05686275 -0.5        -0.48039216]\n",
      " [-0.5        -0.5        -0.5        -0.5        -0.5        -0.5\n",
      "  -0.5        -0.5        -0.5        -0.5        -0.5        -0.5\n",
      "  -0.5        -0.5        -0.49607843 -0.5         0.29607844  0.5\n",
      "   0.49215686  0.5         0.5         0.5         0.49607843  0.5\n",
      "   0.46862745 -0.2882353  -0.5        -0.49215686]\n",
      " [-0.5        -0.5        -0.5        -0.5        -0.5        -0.5\n",
      "  -0.5        -0.5        -0.5        -0.5        -0.5        -0.5\n",
      "  -0.5        -0.49215686 -0.5        -0.3509804   0.4254902   0.5\n",
      "   0.49607843  0.5         0.5         0.5         0.49215686  0.5\n",
      "   0.3627451  -0.4882353  -0.5        -0.5       ]\n",
      " [-0.5        -0.5        -0.5        -0.5        -0.5        -0.5\n",
      "  -0.5        -0.5        -0.5        -0.5        -0.5        -0.5\n",
      "  -0.5        -0.48431373 -0.5        -0.13529412  0.5         0.49215686\n",
      "   0.5         0.5         0.5         0.5         0.49215686  0.5\n",
      "   0.12745099 -0.5        -0.49215686 -0.5       ]\n",
      " [-0.5        -0.5        -0.5        -0.5        -0.5        -0.5\n",
      "  -0.5        -0.5        -0.5        -0.5        -0.5        -0.5\n",
      "  -0.5        -0.49215686 -0.5         0.07254902  0.5         0.48431373\n",
      "   0.5         0.5         0.5         0.5         0.48431373  0.5\n",
      "  -0.14313726 -0.5        -0.4882353  -0.5       ]\n",
      " [-0.5        -0.5        -0.5        -0.5        -0.5        -0.5\n",
      "  -0.5        -0.5        -0.5        -0.5        -0.5        -0.5\n",
      "  -0.49607843 -0.5        -0.46078432  0.32352942  0.5         0.49215686\n",
      "   0.5         0.5         0.5         0.49607843  0.5         0.46470588\n",
      "  -0.32352942 -0.5        -0.4882353  -0.5       ]\n",
      " [-0.5        -0.5        -0.5        -0.5        -0.5        -0.5\n",
      "  -0.5        -0.5        -0.5        -0.5        -0.5        -0.5\n",
      "  -0.49607843 -0.5        -0.34313726  0.49607843  0.5         0.5\n",
      "   0.5         0.5         0.5         0.4882353   0.5         0.27254903\n",
      "  -0.48039216 -0.5        -0.49607843 -0.5       ]\n",
      " [-0.5        -0.5        -0.5        -0.5        -0.5        -0.5\n",
      "  -0.5        -0.5        -0.5        -0.5        -0.5        -0.5\n",
      "  -0.4882353  -0.5        -0.08431373  0.5         0.49215686  0.5\n",
      "   0.5         0.5         0.5         0.4882353   0.5         0.08431373\n",
      "  -0.5        -0.48431373 -0.5        -0.5       ]\n",
      " [-0.5        -0.5        -0.5        -0.5        -0.5        -0.5\n",
      "  -0.5        -0.5        -0.5        -0.5        -0.5        -0.5\n",
      "  -0.48431373 -0.5         0.16666667  0.5         0.4882353   0.5\n",
      "   0.5         0.5         0.5         0.49607843  0.5        -0.17058824\n",
      "  -0.5        -0.4882353  -0.5        -0.5       ]\n",
      " [-0.5        -0.5        -0.5        -0.5        -0.5        -0.5\n",
      "  -0.5        -0.5        -0.5        -0.5        -0.5        -0.49607843\n",
      "  -0.5        -0.43333334  0.33529413  0.5         0.49215686  0.5\n",
      "   0.5         0.5         0.49607843  0.5         0.46078432 -0.40588236\n",
      "  -0.5        -0.49607843 -0.5        -0.5       ]\n",
      " [-0.5        -0.5        -0.5        -0.5        -0.5        -0.5\n",
      "  -0.5        -0.5        -0.5        -0.5        -0.5        -0.4882353\n",
      "  -0.5        -0.2647059   0.5         0.49607843  0.49607843  0.5\n",
      "   0.5         0.5         0.49215686  0.5         0.2529412  -0.49215686\n",
      "  -0.5        -0.49607843 -0.5        -0.5       ]\n",
      " [-0.5        -0.5        -0.5        -0.5        -0.5        -0.5\n",
      "  -0.5        -0.5        -0.5        -0.5        -0.5        -0.4882353\n",
      "  -0.5        -0.01372549  0.5         0.4882353   0.5         0.5\n",
      "   0.5         0.5         0.48431373  0.5        -0.01764706 -0.5\n",
      "  -0.4882353  -0.5        -0.5        -0.5       ]\n",
      " [-0.5        -0.5        -0.5        -0.5        -0.5        -0.5\n",
      "  -0.5        -0.5        -0.5        -0.5        -0.4882353  -0.5\n",
      "  -0.43333334  0.37058824  0.5         0.49607843  0.5         0.5\n",
      "   0.5         0.49607843  0.5         0.4764706  -0.2647059  -0.5\n",
      "  -0.4882353  -0.5        -0.5        -0.5       ]\n",
      " [-0.5        -0.5        -0.5        -0.5        -0.5        -0.5\n",
      "  -0.49607843 -0.49607843 -0.4882353  -0.4882353  -0.5        -0.5\n",
      "   0.12352941  0.5         0.49215686  0.5         0.5         0.5\n",
      "   0.5         0.4882353   0.5         0.24901961 -0.5        -0.49215686\n",
      "  -0.5        -0.5        -0.5        -0.5       ]\n",
      " [-0.5        -0.49215686 -0.48431373 -0.48431373 -0.4882353  -0.49607843\n",
      "  -0.5        -0.5        -0.49607843 -0.5        -0.38235295  0.17450981\n",
      "   0.5         0.49215686  0.5         0.5         0.5         0.5\n",
      "   0.5         0.4882353   0.5        -0.21372549 -0.5        -0.49215686\n",
      "  -0.5        -0.5        -0.5        -0.5       ]\n",
      " [-0.5        -0.5        -0.5        -0.5        -0.5        -0.5\n",
      "  -0.4764706  -0.37058824 -0.17450981  0.13137256  0.4372549   0.5\n",
      "   0.49215686  0.5         0.5         0.5         0.5         0.49607843\n",
      "   0.48039216  0.5         0.10392157 -0.5        -0.49607843 -0.5\n",
      "  -0.5        -0.5        -0.5        -0.5       ]\n",
      " [-0.5        -0.33137256  0.06078431  0.09607843  0.15882353  0.24901961\n",
      "   0.35882354  0.4764706   0.5         0.5         0.49607843  0.49215686\n",
      "   0.5         0.5         0.5         0.5         0.4882353   0.48431373\n",
      "   0.5         0.22156863 -0.45686275 -0.5        -0.49607843 -0.5\n",
      "  -0.5        -0.5        -0.5        -0.5       ]\n",
      " [-0.5         0.04509804  0.5         0.49215686  0.5         0.5\n",
      "   0.5         0.5         0.49215686  0.48431373  0.49607843  0.5\n",
      "   0.49607843  0.49215686  0.4882353   0.49215686  0.49607843  0.5\n",
      "   0.13529412 -0.46078432 -0.5        -0.49215686 -0.5        -0.5\n",
      "  -0.5        -0.5        -0.5        -0.5       ]\n",
      " [-0.5         0.25686276  0.5         0.46862745  0.48431373  0.48431373\n",
      "   0.4882353   0.4882353   0.4882353   0.4882353   0.49215686  0.49607843\n",
      "   0.5         0.5         0.49607843  0.5         0.31960785 -0.18235295\n",
      "  -0.5        -0.49215686 -0.49607843 -0.5        -0.5        -0.5\n",
      "  -0.5        -0.5        -0.5        -0.5       ]\n",
      " [-0.35490197  0.39803922  0.5         0.49215686  0.5         0.5\n",
      "   0.5         0.5         0.5         0.5         0.5         0.5\n",
      "   0.46862745  0.33137256  0.09607843 -0.23333333 -0.48431373 -0.5\n",
      "  -0.49215686 -0.49607843 -0.5        -0.5        -0.5        -0.5\n",
      "  -0.5        -0.5        -0.5        -0.5       ]\n",
      " [-0.17450981  0.5         0.46470588  0.45294118  0.4372549   0.40980393\n",
      "   0.34313726  0.2764706   0.20588236  0.12745099 -0.02941176 -0.20196079\n",
      "  -0.34705883 -0.46470588 -0.5        -0.5        -0.49607843 -0.4882353\n",
      "  -0.49607843 -0.5        -0.5        -0.5        -0.5        -0.5\n",
      "  -0.5        -0.5        -0.5        -0.5       ]]\n"
     ]
    },
    {
     "data": {
      "image/png": "[encoded data removed]",
      "text/plain": [
       "<Figure size 432x288 with 100 Axes>"
      ]
     },
     "metadata": {
      "needs_background": "light"
     },
     "output_type": "display_data"
    }
   ],
   "source": [
    "'''\n",
    "with open('/home/l/桌面/notMNIST/notMNIST_large/B.pickle','rb') as pk_f:\n",
    "    data_b = pickle.load(pk_f)\n",
    "print(data_b.shape)\n",
    "for i in range(0,1000,500):\n",
    "    pic = data_b[i,:,:]\n",
    "    plt.imshow(pic)\n",
    "    plt.show()\n",
    "'''\n",
    "    \n",
    "def display_image_from_pickle(dataset, num_class, num_image):\n",
    "    if(num_image <= 0):\n",
    "        print('num_image <= 0')\n",
    "        return\n",
    "    fig = plt.figure('subplot')\n",
    "    for index,pickle_file in enumerate(dataset):\n",
    "        with open(pickle_file,'rb') as f:\n",
    "            data = pickle.load(f)\n",
    "            #images = data[0:num_image,:,:]\n",
    "            rs = np.random.choice(data.shape[0], num_image, replace=False) # 构建随机查看序列\n",
    "            images = data[rs,:,:]\n",
    "            for i,image in enumerate(images):\n",
    "                #NumClass代表类别，每个类别一行;NumImage代表每个类显示的图像张数\n",
    "                ax = fig.add_subplot(num_class, num_image, index*num_image+i+1)\n",
    "                ax.imshow(image)\n",
    "                ax.set_axis_off()\n",
    "            index = index+1  \n",
    "    plt.show()\n",
    "    \n",
    "#显示10类，每类显示5张图片        \n",
    "#display_image_from_pickle(train_datasets,10,5)    \n",
    "display_image_from_pickle(test_datasets, 10, 10) "
   ]
  },
  {
   "cell_type": "markdown",
   "metadata": {},
   "source": [
    "## Problem 3_1\n",
    "Another check: we expect the data to be balanced across classes. Verify that."
   ]
  },
  {
   "cell_type": "code",
   "execution_count": 6,
   "metadata": {},
   "outputs": [
    {
     "name": "stdout",
     "output_type": "stream",
     "text": [
      "A (52909, 28, 28)\n",
      "B (52911, 28, 28)\n",
      "C (52912, 28, 28)\n",
      "D (52911, 28, 28)\n",
      "E (52912, 28, 28)\n",
      "F (52912, 28, 28)\n",
      "G (52912, 28, 28)\n",
      "H (52912, 28, 28)\n",
      "I (52912, 28, 28)\n",
      "J (52911, 28, 28)\n"
     ]
    }
   ],
   "source": [
    "file_path = \"/home/l/桌面/notMNIST/notMNIST_large/{0}.pickle\"\n",
    "\n",
    "for name in \"ABCDEFGHIJ\":\n",
    "    with open(file_path.format(name), 'rb') as pk_f:\n",
    "        data = pickle.load(pk_f)\n",
    "        print(name, data.shape)"
   ]
  },
  {
   "cell_type": "markdown",
   "metadata": {},
   "source": [
    "## Problem 3_2\n",
    "Merge and prune the training data as needed. Depending on your computer setup, you might not be able to fit it all in memory, and you can tune train_size as needed. The labels will be stored into a separate array of integers 0 through 9.\n",
    "\n",
    "Also create a validation dataset for hyperparameter tuning"
   ]
  },
  {
   "cell_type": "code",
   "execution_count": 7,
   "metadata": {
    "scrolled": true
   },
   "outputs": [
    {
     "name": "stdout",
     "output_type": "stream",
     "text": [
      "Training: (200000, 28, 28) (200000,)\n",
      "Validation: (10000, 28, 28) (10000,)\n",
      "Testing: (10000, 28, 28) (10000,)\n"
     ]
    }
   ],
   "source": [
    "def make_arrays(nb_rows, img_size):\n",
    "    if nb_rows:\n",
    "        dataset = np.ndarray((nb_rows, img_size, img_size), dtype=np.float32)\n",
    "        labels = np.ndarray(nb_rows, dtype=np.int32)\n",
    "    else:\n",
    "        dataset, labels = None, None\n",
    "    return dataset, labels\n",
    "\n",
    "\n",
    "def merge_datasets(pickle_files, train_size, valid_size=0):\n",
    "    num_classes = len(pickle_files)\n",
    "    valid_dataset, valid_labels = make_arrays(valid_size, image_size)\n",
    "    train_dataset, train_labels = make_arrays(train_size, image_size)\n",
    "    vsize_per_class = valid_size // num_classes\n",
    "    tsize_per_class = train_size // num_classes\n",
    "\n",
    "    start_v, start_t = 0, 0\n",
    "    end_v, end_t = vsize_per_class, tsize_per_class\n",
    "    end_l = vsize_per_class+tsize_per_class\n",
    "    for label, pickle_file in enumerate(pickle_files):\n",
    "        try:\n",
    "            with open(pickle_file, 'rb') as f:\n",
    "                letter_set = pickle.load(f)\n",
    "                # let's shuffle the letters to have random validation and training set\n",
    "                np.random.shuffle(letter_set)\n",
    "                if valid_dataset is not None:\n",
    "                    valid_letter = letter_set[:vsize_per_class, :, :]\n",
    "                    valid_dataset[start_v:end_v, :, :] = valid_letter\n",
    "                    valid_labels[start_v:end_v] = label\n",
    "                    start_v += vsize_per_class\n",
    "                    end_v += vsize_per_class\n",
    "\n",
    "                train_letter = letter_set[vsize_per_class:end_l, :, :]\n",
    "                train_dataset[start_t:end_t, :, :] = train_letter\n",
    "                train_labels[start_t:end_t] = label\n",
    "                start_t += tsize_per_class\n",
    "                end_t += tsize_per_class\n",
    "        except Exception as e:\n",
    "            print('Unable to process data from', pickle_file, ':', e)\n",
    "            raise\n",
    "\n",
    "    return valid_dataset, valid_labels, train_dataset, train_labels\n",
    "\n",
    "\n",
    "train_size = 200000\n",
    "valid_size = 10000\n",
    "test_size = 10000\n",
    "\n",
    "valid_dataset, valid_labels, train_dataset, train_labels = merge_datasets(\n",
    "    train_datasets, train_size, valid_size)\n",
    "_, _, test_dataset, test_labels = merge_datasets(test_datasets, test_size)\n",
    "\n",
    "print('Training:', train_dataset.shape, train_labels.shape)\n",
    "print('Validation:', valid_dataset.shape, valid_labels.shape)\n",
    "print('Testing:', test_dataset.shape, test_labels.shape)\n"
   ]
  },
  {
   "cell_type": "markdown",
   "metadata": {},
   "source": [
    "Next, we'll ***randomize the data***. It's important to have the labels well shuffled for the training and test distributions to match."
   ]
  },
  {
   "cell_type": "code",
   "execution_count": 8,
   "metadata": {},
   "outputs": [],
   "source": [
    "def randomize(dataset, labels):\n",
    "    permutation = np.random.permutation(labels.shape[0])\n",
    "    shuffled_dataset = dataset[permutation,:,:]\n",
    "    shuffled_labels = labels[permutation]\n",
    "    return shuffled_dataset, shuffled_labels\n",
    "train_dataset, train_labels = randomize(train_dataset, train_labels)\n",
    "test_dataset, test_labels = randomize(test_dataset, test_labels)\n",
    "valid_dataset, valid_labels = randomize(valid_dataset, valid_labels)"
   ]
  },
  {
   "cell_type": "markdown",
   "metadata": {},
   "source": [
    "## Problem 4\n",
    "Convince yourself that the data is still good after shuffling!\n",
    "\n",
    "----\n",
    "\n",
    "Finally, let's save the data for later reuse:"
   ]
  },
  {
   "cell_type": "code",
   "execution_count": 9,
   "metadata": {},
   "outputs": [
    {
     "data": {
      "image/png": "[encoded data removed]",
      "text/plain": [
       "<Figure size 432x288 with 1 Axes>"
      ]
     },
     "metadata": {
      "needs_background": "light"
     },
     "output_type": "display_data"
    },
    {
     "name": "stdout",
     "output_type": "stream",
     "text": [
      "the pictrue is H\n"
     ]
    }
   ],
   "source": [
    "mapping = { key:val for key, val in enumerate('ABCDEFGHIJ') }\n",
    "\n",
    "def plot_check(mat, key):\n",
    "    plt.imshow(mat)\n",
    "    plt.show()\n",
    "    print('the pictrue is', mapping[key])\n",
    "\n",
    "\n",
    "length = train_dataset.shape[0]-1\n",
    "\n",
    "for _ in range(1):\n",
    "    index = np.random.randint(length)\n",
    "    plot_check(train_dataset[index,:,:], train_labels[index])"
   ]
  },
  {
   "cell_type": "code",
   "execution_count": 10,
   "metadata": {},
   "outputs": [
    {
     "name": "stdout",
     "output_type": "stream",
     "text": [
      "./notMNIST.pickle already present.\n"
     ]
    }
   ],
   "source": [
    "def save_data():\n",
    "    pickle_file = os.path.join('.', 'notMNIST.pickle')\n",
    "    \n",
    "    if os.path.exists(pickle_file):\n",
    "        print('%s already present.' %pickle_file)\n",
    "        return None\n",
    "        \n",
    "    try:\n",
    "        f = open(pickle_file, 'wb')\n",
    "        save = {\n",
    "            'train_dataset': train_dataset,\n",
    "            'train_labels': train_labels,\n",
    "            'valid_dataset': valid_dataset,\n",
    "            'valid_labels': valid_labels,\n",
    "            'test_dataset': test_dataset,\n",
    "            'test_labels': test_labels,\n",
    "        }\n",
    "        pickle.dump(save, f, pickle.HIGHEST_PROTOCOL)\n",
    "        f.close()\n",
    "    except Exception as e:\n",
    "        print('Unable to save data to', pickle_file, ':', e)\n",
    "        raise\n",
    "    statinfo = os.stat(pickle_file)\n",
    "    print('Compressed pickle size:', statinfo.st_size)\n",
    "\n",
    "save_data()"
   ]
  },
  {
   "cell_type": "code",
   "execution_count": 11,
   "metadata": {},
   "outputs": [],
   "source": [
    "from multiprocessing import Process\n",
    "import numpy as np\n",
    "import collections\n",
    " \n",
    "\n",
    " "
   ]
  },
  {
   "cell_type": "markdown",
   "metadata": {},
   "source": [
    "\n",
    "## Problem 6\n",
    "Let's get an idea of what an off-the-shelf classifier can give you on this data. It's always good to check that there is something to learn, and that it's a problem that is not so trivial that a canned solution solves it.\n",
    "\n",
    "Train a simple model on this data using 50, 100, 1000 and 5000 training samples. Hint: you can use the LogisticRegression model from sklearn.linear_model.\n",
    "\n",
    "Optional question: train an off-the-shelf model on all the data!"
   ]
  },
  {
   "cell_type": "code",
   "execution_count": 97,
   "metadata": {},
   "outputs": [
    {
     "name": "stdout",
     "output_type": "stream",
     "text": [
      "Accuracy: 0.6425 when sample_size= 50\n"
     ]
    }
   ],
   "source": [
    "\n",
    "with open('./notMNIST.pickle','rb') as f:\n",
    "    data = pickle.load(f)\n",
    "\n",
    "train_dataset = data['train_dataset']\n",
    "train_labels = data['train_labels']\n",
    "valid_dataset = data['valid_dataset']\n",
    "valid_labels = data['valid_labels'] \n",
    "test_dataset = data['test_dataset']\n",
    "test_labels = data['test_labels']\n",
    "\n",
    "    \n",
    "def train_and_predict(sample_size):\n",
    "    regr = LogisticRegression(solver='liblinear', multi_class='ovr')\n",
    "    \n",
    "    x_train = train_dataset[:sample_size].reshape(sample_size,784)\n",
    "    y_train = train_labels[:sample_size]\n",
    "    regr.fit(x_train,y_train)\n",
    "    \n",
    "    x_test = test_dataset.reshape(test_dataset.shape[0],28*28)\n",
    "    y_test = test_labels\n",
    "\n",
    "    #pred_labels = regr.predict(x_test)\n",
    "    print('Accuracy:', regr.score(x_test, y_test), 'when sample_size=', sample_size)\n",
    "\n",
    "for sample_size in [50]:\n",
    "    train_and_predict(sample_size)"
   ]
  },
  {
   "cell_type": "code",
   "execution_count": 100,
   "metadata": {},
   "outputs": [
    {
     "data": {
      "text/plain": [
       "'1.12.0'"
      ]
     },
     "execution_count": 100,
     "metadata": {},
     "output_type": "execute_result"
    }
   ],
   "source": [
    "import tensorflow as tf\n",
    "tf.__version__"
   ]
  }
 ],
 "metadata": {
  "kernelspec": {
   "display_name": "Python 3",
   "language": "python",
   "name": "python3"
  },
  "language_info": {
   "codemirror_mode": {
    "name": "ipython",
    "version": 3
   },
   "file_extension": ".py",
   "mimetype": "text/x-python",
   "name": "python",
   "nbconvert_exporter": "python",
   "pygments_lexer": "ipython3",
   "version": "3.5.2"
  }
 },
 "nbformat": 4,
 "nbformat_minor": 2
}
